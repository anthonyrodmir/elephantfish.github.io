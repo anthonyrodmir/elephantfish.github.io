{
 "cells": [
  {
   "cell_type": "code",
   "execution_count": 3,
   "metadata": {},
   "outputs": [],
   "source": [
    "import pandas as pd\n",
    "import cv2, numpy, youtube_dl\n",
    "import json\n",
    "import re\n",
    "import csv"
   ]
  },
  {
   "cell_type": "markdown",
   "metadata": {},
   "source": [
    "# activity net util"
   ]
  },
  {
   "cell_type": "markdown",
   "metadata": {},
   "source": [
    "### NOTE: changed file organization, hardcoded filepaths might not work"
   ]
  },
  {
   "cell_type": "code",
   "execution_count": 202,
   "metadata": {},
   "outputs": [
    {
     "name": "stdout",
     "output_type": "stream",
     "text": [
      "[{'segment': [0.01, 123.42336739937599], 'label': 'Fun sliding down'}]\n"
     ]
    },
    {
     "data": {
      "text/html": [
       "<div>\n",
       "<style scoped>\n",
       "    .dataframe tbody tr th:only-of-type {\n",
       "        vertical-align: middle;\n",
       "    }\n",
       "\n",
       "    .dataframe tbody tr th {\n",
       "        vertical-align: top;\n",
       "    }\n",
       "\n",
       "    .dataframe thead th {\n",
       "        text-align: right;\n",
       "    }\n",
       "</style>\n",
       "<table border=\"1\" class=\"dataframe\">\n",
       "  <thead>\n",
       "    <tr style=\"text-align: right;\">\n",
       "      <th></th>\n",
       "      <th>id</th>\n",
       "      <th>duration</th>\n",
       "      <th>subset</th>\n",
       "      <th>resolution</th>\n",
       "      <th>url</th>\n",
       "      <th>annotations</th>\n",
       "    </tr>\n",
       "  </thead>\n",
       "  <tbody>\n",
       "    <tr>\n",
       "      <th>0</th>\n",
       "      <td>sJFgo9H6zNo</td>\n",
       "      <td>139.042</td>\n",
       "      <td>training</td>\n",
       "      <td>640x360</td>\n",
       "      <td>https://www.youtube.com/watch?v=sJFgo9H6zNo</td>\n",
       "      <td>[{'segment': [0.01, 123.42336739937599], 'labe...</td>\n",
       "    </tr>\n",
       "    <tr>\n",
       "      <th>1</th>\n",
       "      <td>V1zhqaGFY2A</td>\n",
       "      <td>136.980</td>\n",
       "      <td>testing</td>\n",
       "      <td>658x480</td>\n",
       "      <td>https://www.youtube.com/watch?v=V1zhqaGFY2A</td>\n",
       "      <td>[]</td>\n",
       "    </tr>\n",
       "    <tr>\n",
       "      <th>2</th>\n",
       "      <td>JDg--pjY5gg</td>\n",
       "      <td>126.178</td>\n",
       "      <td>validation</td>\n",
       "      <td>1920x1080</td>\n",
       "      <td>https://www.youtube.com/watch?v=JDg--pjY5gg</td>\n",
       "      <td>[{'segment': [61.420442338881465, 64.560145614...</td>\n",
       "    </tr>\n",
       "    <tr>\n",
       "      <th>3</th>\n",
       "      <td>KsFid_YVsn0</td>\n",
       "      <td>235.130</td>\n",
       "      <td>testing</td>\n",
       "      <td>1920x1080</td>\n",
       "      <td>https://www.youtube.com/watch?v=KsFid_YVsn0</td>\n",
       "      <td>[]</td>\n",
       "    </tr>\n",
       "    <tr>\n",
       "      <th>4</th>\n",
       "      <td>-TmWR_keSfI</td>\n",
       "      <td>104.955</td>\n",
       "      <td>testing</td>\n",
       "      <td>1280x720</td>\n",
       "      <td>https://www.youtube.com/watch?v=-TmWR_keSfI</td>\n",
       "      <td>[]</td>\n",
       "    </tr>\n",
       "  </tbody>\n",
       "</table>\n",
       "</div>"
      ],
      "text/plain": [
       "            id  duration      subset resolution  \\\n",
       "0  sJFgo9H6zNo   139.042    training    640x360   \n",
       "1  V1zhqaGFY2A   136.980     testing    658x480   \n",
       "2  JDg--pjY5gg   126.178  validation  1920x1080   \n",
       "3  KsFid_YVsn0   235.130     testing  1920x1080   \n",
       "4  -TmWR_keSfI   104.955     testing   1280x720   \n",
       "\n",
       "                                           url  \\\n",
       "0  https://www.youtube.com/watch?v=sJFgo9H6zNo   \n",
       "1  https://www.youtube.com/watch?v=V1zhqaGFY2A   \n",
       "2  https://www.youtube.com/watch?v=JDg--pjY5gg   \n",
       "3  https://www.youtube.com/watch?v=KsFid_YVsn0   \n",
       "4  https://www.youtube.com/watch?v=-TmWR_keSfI   \n",
       "\n",
       "                                         annotations  \n",
       "0  [{'segment': [0.01, 123.42336739937599], 'labe...  \n",
       "1                                                 []  \n",
       "2  [{'segment': [61.420442338881465, 64.560145614...  \n",
       "3                                                 []  \n",
       "4                                                 []  "
      ]
     },
     "execution_count": 202,
     "metadata": {},
     "output_type": "execute_result"
    }
   ],
   "source": [
    "data = json.load(open('raw_data/activity_net.json'))\n",
    "d = {\n",
    "    \"id\": [],\n",
    "    \"duration\": [],\n",
    "    \"subset\": [],\n",
    "    \"resolution\": [],\n",
    "    \"url\": [],\n",
    "    \"annotations\": [],\n",
    "}\n",
    "for k, v in data['database'].items():\n",
    "    d['id'].append(k)\n",
    "    d['duration'].append(v['duration'])\n",
    "    d['subset'].append(v['subset'])\n",
    "    d['resolution'].append(v['resolution'])\n",
    "    d['url'].append(v['url'])\n",
    "    d['annotations'].append(v['annotations'])\n",
    "    if len(d['annotations']) == 1: print(v['annotations'])\n",
    "\n",
    "activitynet_df = pd.DataFrame(d)\n",
    "activitynet_df.head()\n",
    "# print(json.dumps(d['annotations'][:10], indent=2))"
   ]
  },
  {
   "cell_type": "code",
   "execution_count": 195,
   "metadata": {},
   "outputs": [
    {
     "data": {
      "text/html": [
       "<div>\n",
       "<style scoped>\n",
       "    .dataframe tbody tr th:only-of-type {\n",
       "        vertical-align: middle;\n",
       "    }\n",
       "\n",
       "    .dataframe tbody tr th {\n",
       "        vertical-align: top;\n",
       "    }\n",
       "\n",
       "    .dataframe thead th {\n",
       "        text-align: right;\n",
       "    }\n",
       "</style>\n",
       "<table border=\"1\" class=\"dataframe\">\n",
       "  <thead>\n",
       "    <tr style=\"text-align: right;\">\n",
       "      <th></th>\n",
       "      <th>id</th>\n",
       "      <th>duration</th>\n",
       "      <th>subset</th>\n",
       "      <th>resolution</th>\n",
       "      <th>url</th>\n",
       "      <th>annotations</th>\n",
       "    </tr>\n",
       "  </thead>\n",
       "  <tbody>\n",
       "    <tr>\n",
       "      <th>0</th>\n",
       "      <td>sJFgo9H6zNo</td>\n",
       "      <td>139.042</td>\n",
       "      <td>training</td>\n",
       "      <td>640x360</td>\n",
       "      <td>https://www.youtube.com/watch?v=sJFgo9H6zNo</td>\n",
       "      <td>[{\"segment\": [0.01, 123.42336739937599], \"labe...</td>\n",
       "    </tr>\n",
       "    <tr>\n",
       "      <th>1</th>\n",
       "      <td>V1zhqaGFY2A</td>\n",
       "      <td>136.980</td>\n",
       "      <td>testing</td>\n",
       "      <td>658x480</td>\n",
       "      <td>https://www.youtube.com/watch?v=V1zhqaGFY2A</td>\n",
       "      <td>[]</td>\n",
       "    </tr>\n",
       "    <tr>\n",
       "      <th>2</th>\n",
       "      <td>JDg--pjY5gg</td>\n",
       "      <td>126.178</td>\n",
       "      <td>validation</td>\n",
       "      <td>1920x1080</td>\n",
       "      <td>https://www.youtube.com/watch?v=JDg--pjY5gg</td>\n",
       "      <td>[{\"segment\": [61.420442338881465, 64.560145614...</td>\n",
       "    </tr>\n",
       "    <tr>\n",
       "      <th>3</th>\n",
       "      <td>KsFid_YVsn0</td>\n",
       "      <td>235.130</td>\n",
       "      <td>testing</td>\n",
       "      <td>1920x1080</td>\n",
       "      <td>https://www.youtube.com/watch?v=KsFid_YVsn0</td>\n",
       "      <td>[]</td>\n",
       "    </tr>\n",
       "    <tr>\n",
       "      <th>4</th>\n",
       "      <td>-TmWR_keSfI</td>\n",
       "      <td>104.955</td>\n",
       "      <td>testing</td>\n",
       "      <td>1280x720</td>\n",
       "      <td>https://www.youtube.com/watch?v=-TmWR_keSfI</td>\n",
       "      <td>[]</td>\n",
       "    </tr>\n",
       "  </tbody>\n",
       "</table>\n",
       "</div>"
      ],
      "text/plain": [
       "            id  duration      subset resolution  \\\n",
       "0  sJFgo9H6zNo   139.042    training    640x360   \n",
       "1  V1zhqaGFY2A   136.980     testing    658x480   \n",
       "2  JDg--pjY5gg   126.178  validation  1920x1080   \n",
       "3  KsFid_YVsn0   235.130     testing  1920x1080   \n",
       "4  -TmWR_keSfI   104.955     testing   1280x720   \n",
       "\n",
       "                                           url  \\\n",
       "0  https://www.youtube.com/watch?v=sJFgo9H6zNo   \n",
       "1  https://www.youtube.com/watch?v=V1zhqaGFY2A   \n",
       "2  https://www.youtube.com/watch?v=JDg--pjY5gg   \n",
       "3  https://www.youtube.com/watch?v=KsFid_YVsn0   \n",
       "4  https://www.youtube.com/watch?v=-TmWR_keSfI   \n",
       "\n",
       "                                         annotations  \n",
       "0  [{\"segment\": [0.01, 123.42336739937599], \"labe...  \n",
       "1                                                 []  \n",
       "2  [{\"segment\": [61.420442338881465, 64.560145614...  \n",
       "3                                                 []  \n",
       "4                                                 []  "
      ]
     },
     "execution_count": 195,
     "metadata": {},
     "output_type": "execute_result"
    }
   ],
   "source": [
    "activitynet_df['annotations'] = activitynet_df['annotations'].apply(json.dumps)\n",
    "activitynet_df.head()"
   ]
  },
  {
   "cell_type": "code",
   "execution_count": 198,
   "metadata": {},
   "outputs": [],
   "source": [
    "activitynet_df.to_csv('activity_net.csv')"
   ]
  },
  {
   "cell_type": "code",
   "execution_count": 115,
   "metadata": {},
   "outputs": [
    {
     "data": {
      "text/plain": [
       "[(15994,\n",
       "  [{'segment': [0, 184.9797935803432], 'label': 'Removing ice from car'}])]"
      ]
     },
     "execution_count": 115,
     "metadata": {},
     "output_type": "execute_result"
    }
   ],
   "source": [
    "list(activitynet_df.loc[activitynet_df['id'] == '-1IBHYS3L-Y']['annotations'].items())"
   ]
  },
  {
   "cell_type": "markdown",
   "metadata": {},
   "source": [
    "# save frame util"
   ]
  },
  {
   "cell_type": "code",
   "execution_count": 2,
   "metadata": {},
   "outputs": [],
   "source": [
    "# stackoverflow: https://stackoverflow.com/questions/66272740/extract-specific-frames-of-youtube-video-without-downloading-video\n",
    "# youtubedl github: https://github.com/ytdl-org/youtube-dl/blob/master/docs/module_guide.rst\n",
    "# opencv-python docs https://docs.opencv.org/3.4/d8/dfe/classcv_1_1VideoCapture.html#a9ac7f4b1cdfe624663478568486e6712\n",
    "\n",
    "def save_frames(yt_id_list: list, time_list: list, out_dir, res='144p'):\n",
    "    assert len(yt_id_list) == len(time_list)\n",
    "\n",
    "    ydl = youtube_dl.YoutubeDL()\n",
    "    ydl.add_default_info_extractors()\n",
    "\n",
    "    count_saved = 0\n",
    "    for _id, time in zip(yt_id_list, time_list):\n",
    "        url = 'https://www.youtube.com/watch?v=' + _id\n",
    "        info = ydl.extract_info(url, download=False)\n",
    "        for f in info['formats']:\n",
    "            fn = f['format_note']\n",
    "            if res is None or fn == res:\n",
    "                url = f['url']\n",
    "                cap = cv2.VideoCapture(url)\n",
    "\n",
    "                # amount_of_frames = cap.get(cv2.CAP_PROP_FRAME_COUNT)\n",
    "                frame_num = f['fps'] * time\n",
    "                cap.set(cv2.CAP_PROP_POS_FRAMES, frame_num-1)\n",
    "                _, frame = cap.read()\n",
    "                cv2.imwrite(f'{out_dir}{_id}.png', frame)\n",
    "                print(f'saved {_id}')\n",
    "                count_saved += 1\n",
    "\n",
    "                break\n",
    "    print(f'{len(yt_id_list)} total videos, {count_saved} saved')\n",
    "\n",
    "def build_images(hellaswag_csv, activity_net_csv, out_dir='hellaswag_images/'):\n",
    "    hellaswag_df = pd.read_csv(hellaswag_csv)\n",
    "    activity_net_df = pd.read_csv(activity_net_csv)\n",
    "\n",
    "    yt_id_list = []\n",
    "    time_list = []\n",
    "    for source_id in hellaswag_df['source_id']:\n",
    "        yt_id = re.search(r'activitynet~v_(.*)', source_id).group(1)\n",
    "        time = get_time(activity_net_df.loc[activity_net_df['id'] == yt_id]['annotations'].item())\n",
    "\n",
    "        yt_id_list.append(yt_id)\n",
    "        time_list.append(time)\n",
    "    print('start saving frames...')\n",
    "    save_frames(yt_id_list, time_list, out_dir)\n",
    "    print('...end saving frames')\n",
    "\n",
    "def get_time(annotations):\n",
    "    '''\n",
    "    return the middle of the time range specified in the first annotation.\n",
    "    !!! assumes first annotation is used in hellaswag.\n",
    "    if there are no annotations, return middle of full video\n",
    "\n",
    "    example annotation:\n",
    "    [{'segment': [0.01, 123.42336739937599], 'label': 'Fun sliding down'}]\n",
    "    '''\n",
    "    # replaces all single with double quotes, fine since we just need segment\n",
    "    annotations = json.loads(annotations.replace(\"'\", '\"'))\n",
    "    annotation = annotations[0]\n",
    "    # replaces all single with double quotes, fine since we just need segment\n",
    "    segment = annotation['segment']\n",
    "    start, end = segment[0], segment[1]\n",
    "    return (start + end) / 2\n",
    "\n"
   ]
  },
  {
   "cell_type": "code",
   "execution_count": 241,
   "metadata": {},
   "outputs": [
    {
     "name": "stdout",
     "output_type": "stream",
     "text": [
      "start saving frames...\n",
      "[youtube] z8VqGGu5vPc: Downloading webpage\n",
      "saved z8VqGGu5vPc\n",
      "[youtube] 8FSKFy1tPQc: Downloading webpage\n",
      "saved 8FSKFy1tPQc\n",
      "[youtube] sxQbiXWFdKs: Downloading webpage\n",
      "saved sxQbiXWFdKs\n",
      "[youtube] pev7rvOE8eM: Downloading webpage\n",
      "[youtube] pev7rvOE8eM: Downloading MPD manifest\n",
      "saved pev7rvOE8eM\n",
      "[youtube] 6dc-fQCzOiw: Downloading webpage\n",
      "saved 6dc-fQCzOiw\n",
      "[youtube] DW7Zm9DzEDk: Downloading webpage\n",
      "saved DW7Zm9DzEDk\n",
      "[youtube] AVL31l6H1uI: Downloading webpage\n",
      "saved AVL31l6H1uI\n",
      "[youtube] Pv6oIFroaCQ: Downloading webpage\n",
      "saved Pv6oIFroaCQ\n",
      "[youtube] krFle3KU4Ts: Downloading webpage\n",
      "[youtube] krFle3KU4Ts: Downloading MPD manifest\n",
      "saved krFle3KU4Ts\n",
      "[youtube] ATk8OkvNHHQ: Downloading webpage\n",
      "saved ATk8OkvNHHQ\n",
      "10 total videos, 10 saved\n",
      "...end saving frames\n"
     ]
    }
   ],
   "source": [
    "build_images('csv/tiny_hellaswag_train.csv', 'csv/activity_net.csv')"
   ]
  },
  {
   "cell_type": "code",
   "execution_count": 212,
   "metadata": {},
   "outputs": [
    {
     "name": "stdout",
     "output_type": "stream",
     "text": [
      "[youtube] -2dxp-mv2zo: Downloading webpage\n"
     ]
    },
    {
     "name": "stderr",
     "output_type": "stream",
     "text": [
      "ERROR: Private video\n",
      "Sign in if you've been granted access to this video\n"
     ]
    },
    {
     "name": "stdout",
     "output_type": "stream",
     "text": [
      "private!\n"
     ]
    }
   ],
   "source": [
    "\n",
    "ydl = youtube_dl.YoutubeDL()\n",
    "ydl.add_default_info_extractors()\n",
    "url = 'https://www.youtube.com/watch?v=-2dxp-mv2zo'\n",
    "try:\n",
    "    info = ydl.extract_info(url, download=False)\n",
    "except youtube_dl.utils.DownloadError:\n",
    "    print('private!')\n"
   ]
  },
  {
   "cell_type": "markdown",
   "metadata": {},
   "source": [
    "# hellaswag util"
   ]
  },
  {
   "cell_type": "code",
   "execution_count": 135,
   "metadata": {},
   "outputs": [],
   "source": [
    "def create_hellaswag_csv(jsonl_filepath, out_file):\n",
    "    '''\n",
    "    Preprocess hellaswag jsonl file from `filepath`, create and save csv into `data` directory.\n",
    "\n",
    "    Preprocessing:\n",
    "    * Keep only ActivityNet prompts\n",
    "    '''\n",
    "    with open(jsonl_filepath, 'r') as f:\n",
    "        df = pd.read_json(f, lines=True)\n",
    "\n",
    "    # preprocessing\n",
    "    df = df.loc[df['source_id'].str.contains('activitynet')]\n",
    "    df.to_csv(out_file)\n"
   ]
  },
  {
   "cell_type": "code",
   "execution_count": 137,
   "metadata": {},
   "outputs": [],
   "source": [
    "for name in ['train', 'test', 'val']:\n",
    "    create_hellaswag_csv(f'raw_data/hellaswag_{name}.jsonl', f'csv/hellaswag_{name}.csv')"
   ]
  },
  {
   "cell_type": "code",
   "execution_count": 138,
   "metadata": {},
   "outputs": [
    {
     "name": "stdout",
     "output_type": "stream",
     "text": [
      "39905\n"
     ]
    },
    {
     "data": {
      "text/html": [
       "<div>\n",
       "<style scoped>\n",
       "    .dataframe tbody tr th:only-of-type {\n",
       "        vertical-align: middle;\n",
       "    }\n",
       "\n",
       "    .dataframe tbody tr th {\n",
       "        vertical-align: top;\n",
       "    }\n",
       "\n",
       "    .dataframe thead th {\n",
       "        text-align: right;\n",
       "    }\n",
       "</style>\n",
       "<table border=\"1\" class=\"dataframe\">\n",
       "  <thead>\n",
       "    <tr style=\"text-align: right;\">\n",
       "      <th></th>\n",
       "      <th>ind</th>\n",
       "      <th>activity_label</th>\n",
       "      <th>ctx_a</th>\n",
       "      <th>ctx_b</th>\n",
       "      <th>ctx</th>\n",
       "      <th>split</th>\n",
       "      <th>split_type</th>\n",
       "      <th>label</th>\n",
       "      <th>endings</th>\n",
       "      <th>source_id</th>\n",
       "    </tr>\n",
       "  </thead>\n",
       "  <tbody>\n",
       "    <tr>\n",
       "      <th>0</th>\n",
       "      <td>4</td>\n",
       "      <td>Removing ice from car</td>\n",
       "      <td>Then, the man writes over the snow covering th...</td>\n",
       "      <td>then</td>\n",
       "      <td>Then, the man writes over the snow covering th...</td>\n",
       "      <td>train</td>\n",
       "      <td>indomain</td>\n",
       "      <td>3</td>\n",
       "      <td>[, the man adds wax to the windshield and cuts...</td>\n",
       "      <td>activitynet~v_-1IBHYS3L-Y</td>\n",
       "    </tr>\n",
       "    <tr>\n",
       "      <th>1</th>\n",
       "      <td>8</td>\n",
       "      <td>Baking cookies</td>\n",
       "      <td>A female chef in white uniform shows a stack o...</td>\n",
       "      <td>the pans</td>\n",
       "      <td>A female chef in white uniform shows a stack o...</td>\n",
       "      <td>train</td>\n",
       "      <td>indomain</td>\n",
       "      <td>3</td>\n",
       "      <td>[contain egg yolks and baking soda., are then ...</td>\n",
       "      <td>activitynet~v_-2dxp-mv2zo</td>\n",
       "    </tr>\n",
       "    <tr>\n",
       "      <th>2</th>\n",
       "      <td>9</td>\n",
       "      <td>Baking cookies</td>\n",
       "      <td>A female chef in white uniform shows a stack o...</td>\n",
       "      <td>a knife</td>\n",
       "      <td>A female chef in white uniform shows a stack o...</td>\n",
       "      <td>train</td>\n",
       "      <td>indomain</td>\n",
       "      <td>3</td>\n",
       "      <td>[is seen moving on a board and cutting out its...</td>\n",
       "      <td>activitynet~v_-2dxp-mv2zo</td>\n",
       "    </tr>\n",
       "    <tr>\n",
       "      <th>3</th>\n",
       "      <td>12</td>\n",
       "      <td>Baking cookies</td>\n",
       "      <td>A tray of potatoes is loaded into the oven and...</td>\n",
       "      <td>a large tray of meat</td>\n",
       "      <td>A tray of potatoes is loaded into the oven and...</td>\n",
       "      <td>train</td>\n",
       "      <td>indomain</td>\n",
       "      <td>3</td>\n",
       "      <td>[is placed onto a baked potato., , ls, and pic...</td>\n",
       "      <td>activitynet~v_-2dxp-mv2zo</td>\n",
       "    </tr>\n",
       "    <tr>\n",
       "      <th>4</th>\n",
       "      <td>27</td>\n",
       "      <td>Getting a haircut</td>\n",
       "      <td>The man in the center is demonstrating a hairs...</td>\n",
       "      <td>the man in the blue shirt</td>\n",
       "      <td>The man in the center is demonstrating a hairs...</td>\n",
       "      <td>train</td>\n",
       "      <td>indomain</td>\n",
       "      <td>2</td>\n",
       "      <td>[is standing on the sponge cutting the hair of...</td>\n",
       "      <td>activitynet~v_-JqLjPz-07E</td>\n",
       "    </tr>\n",
       "  </tbody>\n",
       "</table>\n",
       "</div>"
      ],
      "text/plain": [
       "   ind         activity_label  \\\n",
       "0    4  Removing ice from car   \n",
       "1    8         Baking cookies   \n",
       "2    9         Baking cookies   \n",
       "3   12         Baking cookies   \n",
       "4   27      Getting a haircut   \n",
       "\n",
       "                                               ctx_a  \\\n",
       "0  Then, the man writes over the snow covering th...   \n",
       "1  A female chef in white uniform shows a stack o...   \n",
       "2  A female chef in white uniform shows a stack o...   \n",
       "3  A tray of potatoes is loaded into the oven and...   \n",
       "4  The man in the center is demonstrating a hairs...   \n",
       "\n",
       "                       ctx_b  \\\n",
       "0                       then   \n",
       "1                   the pans   \n",
       "2                    a knife   \n",
       "3       a large tray of meat   \n",
       "4  the man in the blue shirt   \n",
       "\n",
       "                                                 ctx  split split_type  label  \\\n",
       "0  Then, the man writes over the snow covering th...  train   indomain      3   \n",
       "1  A female chef in white uniform shows a stack o...  train   indomain      3   \n",
       "2  A female chef in white uniform shows a stack o...  train   indomain      3   \n",
       "3  A tray of potatoes is loaded into the oven and...  train   indomain      3   \n",
       "4  The man in the center is demonstrating a hairs...  train   indomain      2   \n",
       "\n",
       "                                             endings  \\\n",
       "0  [, the man adds wax to the windshield and cuts...   \n",
       "1  [contain egg yolks and baking soda., are then ...   \n",
       "2  [is seen moving on a board and cutting out its...   \n",
       "3  [is placed onto a baked potato., , ls, and pic...   \n",
       "4  [is standing on the sponge cutting the hair of...   \n",
       "\n",
       "                   source_id  \n",
       "0  activitynet~v_-1IBHYS3L-Y  \n",
       "1  activitynet~v_-2dxp-mv2zo  \n",
       "2  activitynet~v_-2dxp-mv2zo  \n",
       "3  activitynet~v_-2dxp-mv2zo  \n",
       "4  activitynet~v_-JqLjPz-07E  "
      ]
     },
     "execution_count": 138,
     "metadata": {},
     "output_type": "execute_result"
    }
   ],
   "source": [
    "with open('raw_data/hellaswag_train.jsonl', 'r') as f:\n",
    "    hellaswag_train_df = pd.read_json(f, lines=True)\n",
    "\n",
    "print(hellaswag_train_df.shape[0])\n",
    "hellaswag_train_df.head()"
   ]
  },
  {
   "cell_type": "code",
   "execution_count": 139,
   "metadata": {},
   "outputs": [
    {
     "name": "stdout",
     "output_type": "stream",
     "text": [
      "14740\n"
     ]
    },
    {
     "data": {
      "text/html": [
       "<div>\n",
       "<style scoped>\n",
       "    .dataframe tbody tr th:only-of-type {\n",
       "        vertical-align: middle;\n",
       "    }\n",
       "\n",
       "    .dataframe tbody tr th {\n",
       "        vertical-align: top;\n",
       "    }\n",
       "\n",
       "    .dataframe thead th {\n",
       "        text-align: right;\n",
       "    }\n",
       "</style>\n",
       "<table border=\"1\" class=\"dataframe\">\n",
       "  <thead>\n",
       "    <tr style=\"text-align: right;\">\n",
       "      <th></th>\n",
       "      <th>ind</th>\n",
       "      <th>activity_label</th>\n",
       "      <th>ctx_a</th>\n",
       "      <th>ctx_b</th>\n",
       "      <th>ctx</th>\n",
       "      <th>split</th>\n",
       "      <th>split_type</th>\n",
       "      <th>label</th>\n",
       "      <th>endings</th>\n",
       "      <th>source_id</th>\n",
       "    </tr>\n",
       "  </thead>\n",
       "  <tbody>\n",
       "    <tr>\n",
       "      <th>0</th>\n",
       "      <td>4</td>\n",
       "      <td>Removing ice from car</td>\n",
       "      <td>Then, the man writes over the snow covering th...</td>\n",
       "      <td>then</td>\n",
       "      <td>Then, the man writes over the snow covering th...</td>\n",
       "      <td>train</td>\n",
       "      <td>indomain</td>\n",
       "      <td>3</td>\n",
       "      <td>[, the man adds wax to the windshield and cuts...</td>\n",
       "      <td>activitynet~v_-1IBHYS3L-Y</td>\n",
       "    </tr>\n",
       "    <tr>\n",
       "      <th>1</th>\n",
       "      <td>8</td>\n",
       "      <td>Baking cookies</td>\n",
       "      <td>A female chef in white uniform shows a stack o...</td>\n",
       "      <td>the pans</td>\n",
       "      <td>A female chef in white uniform shows a stack o...</td>\n",
       "      <td>train</td>\n",
       "      <td>indomain</td>\n",
       "      <td>3</td>\n",
       "      <td>[contain egg yolks and baking soda., are then ...</td>\n",
       "      <td>activitynet~v_-2dxp-mv2zo</td>\n",
       "    </tr>\n",
       "    <tr>\n",
       "      <th>2</th>\n",
       "      <td>9</td>\n",
       "      <td>Baking cookies</td>\n",
       "      <td>A female chef in white uniform shows a stack o...</td>\n",
       "      <td>a knife</td>\n",
       "      <td>A female chef in white uniform shows a stack o...</td>\n",
       "      <td>train</td>\n",
       "      <td>indomain</td>\n",
       "      <td>3</td>\n",
       "      <td>[is seen moving on a board and cutting out its...</td>\n",
       "      <td>activitynet~v_-2dxp-mv2zo</td>\n",
       "    </tr>\n",
       "    <tr>\n",
       "      <th>3</th>\n",
       "      <td>12</td>\n",
       "      <td>Baking cookies</td>\n",
       "      <td>A tray of potatoes is loaded into the oven and...</td>\n",
       "      <td>a large tray of meat</td>\n",
       "      <td>A tray of potatoes is loaded into the oven and...</td>\n",
       "      <td>train</td>\n",
       "      <td>indomain</td>\n",
       "      <td>3</td>\n",
       "      <td>[is placed onto a baked potato., , ls, and pic...</td>\n",
       "      <td>activitynet~v_-2dxp-mv2zo</td>\n",
       "    </tr>\n",
       "    <tr>\n",
       "      <th>4</th>\n",
       "      <td>27</td>\n",
       "      <td>Getting a haircut</td>\n",
       "      <td>The man in the center is demonstrating a hairs...</td>\n",
       "      <td>the man in the blue shirt</td>\n",
       "      <td>The man in the center is demonstrating a hairs...</td>\n",
       "      <td>train</td>\n",
       "      <td>indomain</td>\n",
       "      <td>2</td>\n",
       "      <td>[is standing on the sponge cutting the hair of...</td>\n",
       "      <td>activitynet~v_-JqLjPz-07E</td>\n",
       "    </tr>\n",
       "  </tbody>\n",
       "</table>\n",
       "</div>"
      ],
      "text/plain": [
       "   ind         activity_label  \\\n",
       "0    4  Removing ice from car   \n",
       "1    8         Baking cookies   \n",
       "2    9         Baking cookies   \n",
       "3   12         Baking cookies   \n",
       "4   27      Getting a haircut   \n",
       "\n",
       "                                               ctx_a  \\\n",
       "0  Then, the man writes over the snow covering th...   \n",
       "1  A female chef in white uniform shows a stack o...   \n",
       "2  A female chef in white uniform shows a stack o...   \n",
       "3  A tray of potatoes is loaded into the oven and...   \n",
       "4  The man in the center is demonstrating a hairs...   \n",
       "\n",
       "                       ctx_b  \\\n",
       "0                       then   \n",
       "1                   the pans   \n",
       "2                    a knife   \n",
       "3       a large tray of meat   \n",
       "4  the man in the blue shirt   \n",
       "\n",
       "                                                 ctx  split split_type  label  \\\n",
       "0  Then, the man writes over the snow covering th...  train   indomain      3   \n",
       "1  A female chef in white uniform shows a stack o...  train   indomain      3   \n",
       "2  A female chef in white uniform shows a stack o...  train   indomain      3   \n",
       "3  A tray of potatoes is loaded into the oven and...  train   indomain      3   \n",
       "4  The man in the center is demonstrating a hairs...  train   indomain      2   \n",
       "\n",
       "                                             endings  \\\n",
       "0  [, the man adds wax to the windshield and cuts...   \n",
       "1  [contain egg yolks and baking soda., are then ...   \n",
       "2  [is seen moving on a board and cutting out its...   \n",
       "3  [is placed onto a baked potato., , ls, and pic...   \n",
       "4  [is standing on the sponge cutting the hair of...   \n",
       "\n",
       "                   source_id  \n",
       "0  activitynet~v_-1IBHYS3L-Y  \n",
       "1  activitynet~v_-2dxp-mv2zo  \n",
       "2  activitynet~v_-2dxp-mv2zo  \n",
       "3  activitynet~v_-2dxp-mv2zo  \n",
       "4  activitynet~v_-JqLjPz-07E  "
      ]
     },
     "execution_count": 139,
     "metadata": {},
     "output_type": "execute_result"
    }
   ],
   "source": [
    "hellaswag_train_df = hellaswag_train_df.loc[hellaswag_train_df['source_id'].str.contains('activitynet')]\n",
    "print(hellaswag_train_df.shape[0])\n",
    "hellaswag_train_df.head()"
   ]
  },
  {
   "cell_type": "code",
   "execution_count": 142,
   "metadata": {},
   "outputs": [],
   "source": [
    "tiny_hellaswag_train_df = hellaswag_train_df.iloc[:10]\n",
    "tiny_hellaswag_train_df.head(20)\n",
    "tiny_hellaswag_train_df.to_csv('csv/tiny_hellaswag_train.csv')"
   ]
  },
  {
   "cell_type": "code",
   "execution_count": 237,
   "metadata": {},
   "outputs": [],
   "source": [
    "import random\n",
    "\n",
    "def create_sampled_hellaswag_csv(hellaswag_csv, out_file, n):\n",
    "    '''\n",
    "    randomly sample rows from hellaswag csv to create a new csv of length n. all\n",
    "    rows have been checked for their corresponding video being public\n",
    "    '''\n",
    "    with open(hellaswag_csv, 'r') as f:\n",
    "        df = pd.read_csv(f)\n",
    "\n",
    "    seen = set()\n",
    "    ydl = youtube_dl.YoutubeDL()\n",
    "    ydl.add_default_info_extractors()\n",
    "\n",
    "    while len(seen) < n:\n",
    "        m = random.randint(0, df.shape[0])\n",
    "        if m in seen:\n",
    "            continue\n",
    "        # check if corresponding video is not private\n",
    "        series = df.iloc[m]\n",
    "        yt_id = re.search(r'activitynet~v_(.*)', series['source_id']).group(1)\n",
    "        url = f'https://www.youtube.com/watch?v={yt_id}'\n",
    "        try:\n",
    "            ydl.extract_info(url, download=False)\n",
    "        except youtube_dl.utils.YoutubeDLError:\n",
    "            continue\n",
    "        seen.add(m)\n",
    "\n",
    "    sampled_df = df.iloc[list(seen)]\n",
    "    sampled_df = sampled_df.drop(labels='Unnamed: 0', axis=1)\n",
    "    sampled_df.to_csv(out_file)"
   ]
  },
  {
   "cell_type": "code",
   "execution_count": 238,
   "metadata": {},
   "outputs": [
    {
     "name": "stdout",
     "output_type": "stream",
     "text": [
      "[youtube] z8VqGGu5vPc: Downloading webpage\n",
      "[youtube] DW7Zm9DzEDk: Downloading webpage\n",
      "[youtube] o-BGGr-DU5g: Downloading webpage\n"
     ]
    },
    {
     "name": "stderr",
     "output_type": "stream",
     "text": [
      "ERROR: Video unavailable\n"
     ]
    },
    {
     "name": "stdout",
     "output_type": "stream",
     "text": [
      "[youtube] krFle3KU4Ts: Downloading webpage\n",
      "[youtube] krFle3KU4Ts: Downloading MPD manifest\n",
      "[youtube] sxQbiXWFdKs: Downloading webpage\n",
      "[youtube] ATk8OkvNHHQ: Downloading webpage\n",
      "[youtube] a0hFDXB1RgY: Downloading webpage\n"
     ]
    },
    {
     "name": "stderr",
     "output_type": "stream",
     "text": [
      "ERROR: Video unavailable\n"
     ]
    },
    {
     "name": "stdout",
     "output_type": "stream",
     "text": [
      "[youtube] qr5vqi5tTL8: Downloading webpage\n"
     ]
    },
    {
     "name": "stderr",
     "output_type": "stream",
     "text": [
      "ERROR: Private video\n",
      "Sign in if you've been granted access to this video\n"
     ]
    },
    {
     "name": "stdout",
     "output_type": "stream",
     "text": [
      "[youtube] 8xsLp6lqijo: Downloading webpage\n"
     ]
    },
    {
     "name": "stderr",
     "output_type": "stream",
     "text": [
      "ERROR: Video unavailable\n"
     ]
    },
    {
     "name": "stdout",
     "output_type": "stream",
     "text": [
      "[youtube] 8FSKFy1tPQc: Downloading webpage\n",
      "[youtube] AVL31l6H1uI: Downloading webpage\n",
      "[youtube] pev7rvOE8eM: Downloading webpage\n",
      "[youtube] pev7rvOE8eM: Downloading MPD manifest\n",
      "[youtube] JVfhBvlv0IY: Downloading webpage\n"
     ]
    },
    {
     "name": "stderr",
     "output_type": "stream",
     "text": [
      "ERROR: Video unavailable\n",
      "This video is no longer available because the YouTube account associated with this video has been terminated.\n"
     ]
    },
    {
     "name": "stdout",
     "output_type": "stream",
     "text": [
      "[youtube] Xbk1XePzTIA: Downloading webpage\n"
     ]
    },
    {
     "name": "stderr",
     "output_type": "stream",
     "text": [
      "ERROR: Private video\n",
      "Sign in if you've been granted access to this video\n"
     ]
    },
    {
     "name": "stdout",
     "output_type": "stream",
     "text": [
      "[youtube] Pv6oIFroaCQ: Downloading webpage\n",
      "[youtube] 6dc-fQCzOiw: Downloading webpage\n"
     ]
    }
   ],
   "source": [
    "create_sampled_hellaswag_csv('csv/hellaswag_train.csv', 'csv/tiny_hellaswag_train.csv', 10)"
   ]
  },
  {
   "cell_type": "code",
   "execution_count": 234,
   "metadata": {},
   "outputs": [
    {
     "data": {
      "text/html": [
       "<div>\n",
       "<style scoped>\n",
       "    .dataframe tbody tr th:only-of-type {\n",
       "        vertical-align: middle;\n",
       "    }\n",
       "\n",
       "    .dataframe tbody tr th {\n",
       "        vertical-align: top;\n",
       "    }\n",
       "\n",
       "    .dataframe thead th {\n",
       "        text-align: right;\n",
       "    }\n",
       "</style>\n",
       "<table border=\"1\" class=\"dataframe\">\n",
       "  <thead>\n",
       "    <tr style=\"text-align: right;\">\n",
       "      <th></th>\n",
       "      <th>ind</th>\n",
       "      <th>activity_label</th>\n",
       "      <th>ctx_a</th>\n",
       "      <th>ctx_b</th>\n",
       "      <th>ctx</th>\n",
       "      <th>split</th>\n",
       "      <th>split_type</th>\n",
       "      <th>label</th>\n",
       "      <th>endings</th>\n",
       "      <th>source_id</th>\n",
       "    </tr>\n",
       "  </thead>\n",
       "  <tbody>\n",
       "    <tr>\n",
       "      <th>0</th>\n",
       "      <td>4</td>\n",
       "      <td>Removing ice from car</td>\n",
       "      <td>Then, the man writes over the snow covering th...</td>\n",
       "      <td>then</td>\n",
       "      <td>Then, the man writes over the snow covering th...</td>\n",
       "      <td>train</td>\n",
       "      <td>indomain</td>\n",
       "      <td>3</td>\n",
       "      <td>[', the man adds wax to the windshield and cut...</td>\n",
       "      <td>activitynet~v_-1IBHYS3L-Y</td>\n",
       "    </tr>\n",
       "    <tr>\n",
       "      <th>1</th>\n",
       "      <td>8</td>\n",
       "      <td>Baking cookies</td>\n",
       "      <td>A female chef in white uniform shows a stack o...</td>\n",
       "      <td>the pans</td>\n",
       "      <td>A female chef in white uniform shows a stack o...</td>\n",
       "      <td>train</td>\n",
       "      <td>indomain</td>\n",
       "      <td>3</td>\n",
       "      <td>['contain egg yolks and baking soda.', 'are th...</td>\n",
       "      <td>activitynet~v_-2dxp-mv2zo</td>\n",
       "    </tr>\n",
       "    <tr>\n",
       "      <th>2</th>\n",
       "      <td>9</td>\n",
       "      <td>Baking cookies</td>\n",
       "      <td>A female chef in white uniform shows a stack o...</td>\n",
       "      <td>a knife</td>\n",
       "      <td>A female chef in white uniform shows a stack o...</td>\n",
       "      <td>train</td>\n",
       "      <td>indomain</td>\n",
       "      <td>3</td>\n",
       "      <td>['is seen moving on a board and cutting out it...</td>\n",
       "      <td>activitynet~v_-2dxp-mv2zo</td>\n",
       "    </tr>\n",
       "    <tr>\n",
       "      <th>3</th>\n",
       "      <td>12</td>\n",
       "      <td>Baking cookies</td>\n",
       "      <td>A tray of potatoes is loaded into the oven and...</td>\n",
       "      <td>a large tray of meat</td>\n",
       "      <td>A tray of potatoes is loaded into the oven and...</td>\n",
       "      <td>train</td>\n",
       "      <td>indomain</td>\n",
       "      <td>3</td>\n",
       "      <td>['is placed onto a baked potato.', ', ls, and ...</td>\n",
       "      <td>activitynet~v_-2dxp-mv2zo</td>\n",
       "    </tr>\n",
       "    <tr>\n",
       "      <th>4</th>\n",
       "      <td>27</td>\n",
       "      <td>Getting a haircut</td>\n",
       "      <td>The man in the center is demonstrating a hairs...</td>\n",
       "      <td>the man in the blue shirt</td>\n",
       "      <td>The man in the center is demonstrating a hairs...</td>\n",
       "      <td>train</td>\n",
       "      <td>indomain</td>\n",
       "      <td>2</td>\n",
       "      <td>['is standing on the sponge cutting the hair o...</td>\n",
       "      <td>activitynet~v_-JqLjPz-07E</td>\n",
       "    </tr>\n",
       "  </tbody>\n",
       "</table>\n",
       "</div>"
      ],
      "text/plain": [
       "   ind         activity_label  \\\n",
       "0    4  Removing ice from car   \n",
       "1    8         Baking cookies   \n",
       "2    9         Baking cookies   \n",
       "3   12         Baking cookies   \n",
       "4   27      Getting a haircut   \n",
       "\n",
       "                                               ctx_a  \\\n",
       "0  Then, the man writes over the snow covering th...   \n",
       "1  A female chef in white uniform shows a stack o...   \n",
       "2  A female chef in white uniform shows a stack o...   \n",
       "3  A tray of potatoes is loaded into the oven and...   \n",
       "4  The man in the center is demonstrating a hairs...   \n",
       "\n",
       "                       ctx_b  \\\n",
       "0                       then   \n",
       "1                   the pans   \n",
       "2                    a knife   \n",
       "3       a large tray of meat   \n",
       "4  the man in the blue shirt   \n",
       "\n",
       "                                                 ctx  split split_type  label  \\\n",
       "0  Then, the man writes over the snow covering th...  train   indomain      3   \n",
       "1  A female chef in white uniform shows a stack o...  train   indomain      3   \n",
       "2  A female chef in white uniform shows a stack o...  train   indomain      3   \n",
       "3  A tray of potatoes is loaded into the oven and...  train   indomain      3   \n",
       "4  The man in the center is demonstrating a hairs...  train   indomain      2   \n",
       "\n",
       "                                             endings  \\\n",
       "0  [', the man adds wax to the windshield and cut...   \n",
       "1  ['contain egg yolks and baking soda.', 'are th...   \n",
       "2  ['is seen moving on a board and cutting out it...   \n",
       "3  ['is placed onto a baked potato.', ', ls, and ...   \n",
       "4  ['is standing on the sponge cutting the hair o...   \n",
       "\n",
       "                   source_id  \n",
       "0  activitynet~v_-1IBHYS3L-Y  \n",
       "1  activitynet~v_-2dxp-mv2zo  \n",
       "2  activitynet~v_-2dxp-mv2zo  \n",
       "3  activitynet~v_-2dxp-mv2zo  \n",
       "4  activitynet~v_-JqLjPz-07E  "
      ]
     },
     "execution_count": 234,
     "metadata": {},
     "output_type": "execute_result"
    }
   ],
   "source": [
    "with open('csv/hellaswag_train.csv', 'r') as f:\n",
    "    df = pd.read_csv(f)\n",
    "df = df.drop(labels='Unnamed: 0', axis=1)\n",
    "df.to_csv('test.csv')\n",
    "df.head()"
   ]
  },
  {
   "cell_type": "code",
   "execution_count": 243,
   "metadata": {},
   "outputs": [
    {
     "name": "stdout",
     "output_type": "stream",
     "text": [
      "train: 14741\n",
      "test: 3522\n",
      "val: 3244\n"
     ]
    }
   ],
   "source": [
    "for name in ['train', 'test', 'val']:\n",
    "    with open(f'csv/hellaswag_{name}.csv', 'r') as f:\n",
    "        print(f'{name}: {len(f.readlines())}')"
   ]
  },
  {
   "cell_type": "code",
   "execution_count": 4,
   "metadata": {},
   "outputs": [
    {
     "name": "stdout",
     "output_type": "stream",
     "text": [
      "[youtube] -1IBHYS3L-Y: Downloading webpage\n",
      "saved -1IBHYS3L-Y\n",
      "1 total videos, 1 saved\n"
     ]
    }
   ],
   "source": [
    "# save frame from single video\n",
    "\n",
    "save_frames(['-1IBHYS3L-Y'], [92.5], 'hellaswag_images/')"
   ]
  }
 ],
 "metadata": {
  "kernelspec": {
   "display_name": "Python 3",
   "language": "python",
   "name": "python3"
  },
  "language_info": {
   "codemirror_mode": {
    "name": "ipython",
    "version": 3
   },
   "file_extension": ".py",
   "mimetype": "text/x-python",
   "name": "python",
   "nbconvert_exporter": "python",
   "pygments_lexer": "ipython3",
   "version": "3.11.2"
  }
 },
 "nbformat": 4,
 "nbformat_minor": 2
}
